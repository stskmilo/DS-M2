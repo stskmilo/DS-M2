{
 "cells": [
  {
   "cell_type": "markdown",
   "metadata": {},
   "source": [
    "## Homework <br>"
   ]
  },
  {
   "cell_type": "markdown",
   "metadata": {},
   "source": [
    "1. Considera el experimento que consiste en un empleado que arma un producto.\n",
    "  - a. Defina la variable aleatoria que represente el tiempo en minutos requerido para armar el producto.<br> \n",
    "  - b. ¿Qué valores toma la variable aleatoria?<br> \n",
    "  - c. ¿Es una variable aleatoria discreta o continua?<br> "
   ]
  },
  {
   "cell_type": "code",
   "execution_count": null,
   "metadata": {},
   "outputs": [],
   "source": [
    "#A X = Tiempo requerido en minutos para armar el producto\n",
    "#B Cualquier valor positivo X>0\n",
    "#C Continua"
   ]
  },
  {
   "cell_type": "markdown",
   "metadata": {},
   "source": [
    "2. Considera el experimento que consiste en lanzar una moneda dos veces.\n",
    "  - a. Enumere los resultados experimentales.\n",
    "  - b. Defina una variable aleatoria que represente el número de caras en los dos lanzamientos.\n",
    "  - c. Dé el valor que la variable aleatoria tomará en cada uno de los resultados experimentales.\n",
    "  - d. ¿Es una variable aleatoria discreta o continua?"
   ]
  },
  {
   "cell_type": "code",
   "execution_count": 1,
   "metadata": {},
   "outputs": [],
   "source": [
    "#A\n",
    "H='cara'\n",
    "T='cruz'\n",
    "resultados = { 1:[H, H],2:[H, T],3:[T, H],4:[T, T]}\n",
    "\n",
    "#B x = cantidad de caras en dos lanzamientos => P(x=0)\n",
    "\n",
    "#C\n",
    "resultados = {\n",
    "    1:[[H, H], 2], #P(x=2) si mi x es cantidad de caras en 2 lanzamientos\n",
    "    2:[[H, T], 1], #P(x=1) tengo que contar las caras que salieron en los dos lanzamientos\n",
    "    3:[[T, H], 1], #P(x=1)\n",
    "    4:[[T, T], 0]} #P(x=0)\n",
    "\n",
    "#D discreta\n"
   ]
  },
  {
   "cell_type": "markdown",
   "metadata": {},
   "source": [
    "3. Considera las decisiones de compra de los próximos tres clientes que lleguen a la tienda de ropa Martin Clothing Store. De acuerdo con la experiencia, el gerente de la tienda estima que la probabilidad de que un cliente realice una compra es 0.30. \n",
    "  - a. Describa si cumple con las reglas para clasificarlo como un experimiento binomial.\n",
    "  - b. ¿Cuál es la probabilidad de que dos de los próximos tres clientes realicen una compra?\n",
    "  - c. ¿Cuál es la probabilidad de que cuatro de los próximos diez clientes realicen una compra?"
   ]
  },
  {
   "cell_type": "code",
   "execution_count": 1,
   "metadata": {},
   "outputs": [
    {
     "name": "stdout",
     "output_type": "stream",
     "text": [
      "0.189\n",
      "0.20012094899999994\n"
     ]
    }
   ],
   "source": [
    "from math import factorial\n",
    "\n",
    "def binomial(n,x,p): #n: num experimentos x:num exitos p: prob exito\n",
    "    return (factorial(n)*(p**x)*((1-p)**(n-x)))/(factorial(x)*factorial(n-x))\n",
    "#a si cumple con las 4 reglas\n",
    "#b\n",
    "print(binomial(3,2,0.3))\n",
    "\n",
    "\n",
    "#c\n",
    "print(binomial(10,4,0.3))"
   ]
  },
  {
   "cell_type": "markdown",
   "metadata": {},
   "source": [
    "4.  A la oficina de reservaciones de una aerolínea regional llegan 48 llamadas por hora.\n",
    "- a. Calcule la probabilidad de recibir cinco llamadas en un lapso de 5 minutos.\n",
    "- b. Estime la probabilidad de recibir exactamente 10 llamadas en un lapso de 15 minutos.\n",
    "- c. Suponga que no hay ninguna llamada en espera. Si el agente de viajes necesitará 5 minutos para la llamada que está atendiendo, ¿cuántas llamadas habrá en espera para cuando él termine? ¿Cuál es la probabilidad de que no haya ninguna llamada en espera?\n",
    "- d. Si en este momento no hay ninguna llamada, ¿cuál es la probabilidad de que el agente de viajes pueda tomar 3 minutos de descanso sin ser interrumpido por una llamada?"
   ]
  },
  {
   "cell_type": "code",
   "execution_count": 11,
   "metadata": {},
   "outputs": [
    {
     "name": "stdout",
     "output_type": "stream",
     "text": [
      "0.15629345185053173\n",
      "0.1048372558836594\n",
      "0.018315638888734186\n",
      "0.09071795328941253\n"
     ]
    }
   ],
   "source": [
    "from math import factorial\n",
    "from math import e\n",
    "def probabilidad_poisson(lambda_np,x):\n",
    "    probabilidad = (pow(e,-lambda_np) * pow(lambda_np,x))/factorial(x)\n",
    "    return probabilidad\n",
    "\n",
    "#a\n",
    "#48 llamadas por hora, por hora lambda es 48\n",
    "#si yo te pregunto por minuto: 48/60 = 0.8\n",
    "#si te pregunto cada 5 minutos: 0.8*5 = 4\n",
    "print(probabilidad_poisson(4,5)) #a primer argumento 48 llamadas en 60 min, 5*48/60\n",
    "\n",
    "#b 15*48/60\n",
    "print(probabilidad_poisson(12,10)) \n",
    "\n",
    "#c tendrían que haber entrado 4 llamadas (1 cada 48 segundos)\n",
    "print(probabilidad_poisson(4,0))\n",
    "\n",
    "#d 3 minutos -> 3*0.8\n",
    "print(probabilidad_poisson(2.4,0)) "
   ]
  },
  {
   "cell_type": "markdown",
   "metadata": {},
   "source": [
    "5. En una encuesta realizada por Gallup Organization, se les preguntó a los interrogados, “Cuál es el deporte que prefieres ver”. Futbol y básquetbol ocuparon el primero y segundo lugar de preferencia (www.gallup.com, 3 de enero de 2004). Si en un grupo de 10 individuos, siete prefieren futbol y tres prefieren básquetbol. Se toma una muestra aleatoria de tres de estas personas.\n",
    "- a. ¿Cuál es la probabilidad de que exactamente dos prefieren el futbol?\n",
    "- b. ¿De que la mayoría (ya sean dos o tres) prefiere el futbol?"
   ]
  },
  {
   "cell_type": "code",
   "execution_count": 4,
   "metadata": {},
   "outputs": [
    {
     "name": "stdout",
     "output_type": "stream",
     "text": [
      "0.525\n",
      "0.8166666666666667\n"
     ]
    }
   ],
   "source": [
    "def combinacion(N,n):\n",
    "    return factorial(N)/(factorial(n)*factorial(N-n))\n",
    "\n",
    "def hipergeometrica(x,r,n,N):\n",
    "    c1 = combinacion(r,x)\n",
    "    c2 = combinacion(N-r,n-x)\n",
    "    c3 = combinacion(N,n)\n",
    "    return (c1*c2)/c3\n",
    "\n",
    "#a  \n",
    "print(hipergeometrica(2,3,7,10))\n",
    "\n",
    "#b\n",
    "prob_0 = hipergeometrica(0,3,7,10) #de 10 personas, 7 les gusta, tomo 3, 0 les gusta\n",
    "prob_1 = hipergeometrica(1,3,7,10) #de 10 personas, 7 les gusta, tomo 3, 1 les gusta\n",
    "print(1-prob_1-prob_0)"
   ]
  },
  {
   "cell_type": "markdown",
   "metadata": {},
   "source": [
    "6. La probabilidad de que a un estudiante le guste este modulo es de 0.7 (en Henry somos optimistas), cual es la probabilidad de que les guste este módulo a 6 de los 10 estudiantes.<br>"
   ]
  },
  {
   "cell_type": "code",
   "execution_count": 6,
   "metadata": {},
   "outputs": [],
   "source": [
    "def funcion_binomial(n,x,p): #n: num experimentos x:num exitos p: prob exito\n",
    "    return (factorial(n)*(p**x)*((1-p)**(n-x)))/(factorial(x)*factorial(n-x))"
   ]
  },
  {
   "cell_type": "code",
   "execution_count": 7,
   "metadata": {},
   "outputs": [
    {
     "name": "stdout",
     "output_type": "stream",
     "text": [
      "0.26682793200000005\n"
     ]
    }
   ],
   "source": [
    "print(funcion_binomial(10,7,0.7))"
   ]
  },
  {
   "cell_type": "markdown",
   "metadata": {},
   "source": [
    "7. De todos los push a Git en un Henry Challenge, el 90% lo envía a término. Si se envían 9 ¿cuál es la probabilidad de que 7 lleguen a término?.<br>"
   ]
  },
  {
   "cell_type": "code",
   "execution_count": 8,
   "metadata": {},
   "outputs": [
    {
     "name": "stdout",
     "output_type": "stream",
     "text": [
      "0.17218688399999996\n"
     ]
    }
   ],
   "source": [
    "print(funcion_binomial(9,7,0.9))"
   ]
  },
  {
   "cell_type": "markdown",
   "metadata": {},
   "source": [
    "8. En relación con el enunciado anterior cálcule la probabilidad de que 7 o más lleguen a término.<br>\n",
    "Distribución de Poisson:<br>\n"
   ]
  },
  {
   "cell_type": "code",
   "execution_count": 9,
   "metadata": {},
   "outputs": [
    {
     "name": "stdout",
     "output_type": "stream",
     "text": [
      "0.9470278620000001\n"
     ]
    }
   ],
   "source": [
    "print( funcion_binomial(9,7,0.9)+ funcion_binomial(9,8,0.9) + funcion_binomial(9,9,0.9))"
   ]
  },
  {
   "cell_type": "markdown",
   "metadata": {},
   "source": [
    "9. La cantidad de alumnos promedio que se ausentan en un día de clases en la carrera de Data Science es de 10. Calcular cual es la probabilidad de que se ausenten 7 alumnos.<br>\n"
   ]
  },
  {
   "cell_type": "code",
   "execution_count": 12,
   "metadata": {},
   "outputs": [
    {
     "name": "stdout",
     "output_type": "stream",
     "text": [
      "0.09007922571921602\n"
     ]
    }
   ],
   "source": [
    "print(probabilidad_poisson(10,7))"
   ]
  },
  {
   "cell_type": "markdown",
   "metadata": {},
   "source": [
    "10. Cuando inicia una clase, los estudiantes ingresan a un ritmo de 5 estudiantes por minuto. Calcular cual es la probabilidad de que ingresen 7 estudiantes por minuto.<br>\n",
    "\n"
   ]
  },
  {
   "cell_type": "code",
   "execution_count": 13,
   "metadata": {},
   "outputs": [
    {
     "name": "stdout",
     "output_type": "stream",
     "text": [
      "0.10444486295705402\n"
     ]
    }
   ],
   "source": [
    "print(probabilidad_poisson(5,7))"
   ]
  },
  {
   "cell_type": "markdown",
   "metadata": {},
   "source": [
    "## Ejercicios complementarios <br>"
   ]
  },
  {
   "cell_type": "markdown",
   "metadata": {},
   "source": [
    "11. Cada 3 días ingresan 10 estudiantes nuevos al Prep Course de Henry, calcule la probabilidad de que ingresen 15 nuevos estudiantes en un período de 6 días.<br>"
   ]
  },
  {
   "cell_type": "code",
   "execution_count": 14,
   "metadata": {},
   "outputs": [
    {
     "name": "stdout",
     "output_type": "stream",
     "text": [
      "0.0516488535317584\n"
     ]
    }
   ],
   "source": [
    "#Se aplica funcion Poisson\n",
    "#El intervalo dado es de 3 dias, para llevarlo a un intervalo de 6 dias aplicamos regla de 3 y nos da 20 alumnos\n",
    "\n",
    "print(probabilidad_poisson(20,15))"
   ]
  },
  {
   "cell_type": "markdown",
   "metadata": {},
   "source": [
    "12. En una distribución de Poisson de lamba_np=3, cual es la probabilidad de x>=1.<br>\n",
    "Distribución Normal:<br>"
   ]
  },
  {
   "cell_type": "code",
   "execution_count": 15,
   "metadata": {},
   "outputs": [
    {
     "name": "stdout",
     "output_type": "stream",
     "text": [
      "0.950212931632136\n"
     ]
    }
   ],
   "source": [
    "print(1-probabilidad_poisson(3,0))"
   ]
  },
  {
   "cell_type": "markdown",
   "metadata": {},
   "source": [
    "13. La calificación promedio de los estudiantes de Henry es de 78 con una desviación estandar de 25. Cual es la probabilidad de tener estudiantes con calificaciones mayores o iguales 90."
   ]
  },
  {
   "cell_type": "code",
   "execution_count": 18,
   "metadata": {},
   "outputs": [
    {
     "ename": "AttributeError",
     "evalue": "type object 'Stats' has no attribute 'norm'",
     "output_type": "error",
     "traceback": [
      "\u001b[1;31m---------------------------------------------------------------------------\u001b[0m",
      "\u001b[1;31mAttributeError\u001b[0m                            Traceback (most recent call last)",
      "\u001b[1;32me:\\Users\\ccook\\Desktop\\DataSoyHenry\\Clases\\DS-M2\\Clase 04\\Homework.ipynb Celda 29\u001b[0m in \u001b[0;36m<cell line: 9>\u001b[1;34m()\u001b[0m\n\u001b[0;32m      <a href='vscode-notebook-cell:/e%3A/Users/ccook/Desktop/DataSoyHenry/Clases/DS-M2/Clase%2004/Homework.ipynb#ch0000027?line=5'>6</a>\u001b[0m sigma\u001b[39m=\u001b[39m\u001b[39m25\u001b[39m\n\u001b[0;32m      <a href='vscode-notebook-cell:/e%3A/Users/ccook/Desktop/DataSoyHenry/Clases/DS-M2/Clase%2004/Homework.ipynb#ch0000027?line=6'>7</a>\u001b[0m z\u001b[39m=\u001b[39m(X\u001b[39m-\u001b[39mmu)\u001b[39m/\u001b[39msigma \u001b[39m#da 0.48, por tabla se resuelte: se busca en la table y se obtiene 0.3156\u001b[39;00m\n\u001b[1;32m----> <a href='vscode-notebook-cell:/e%3A/Users/ccook/Desktop/DataSoyHenry/Clases/DS-M2/Clase%2004/Homework.ipynb#ch0000027?line=8'>9</a>\u001b[0m normal \u001b[39m=\u001b[39m Stats\u001b[39m.\u001b[39;49mnorm(\u001b[39m0\u001b[39m,\u001b[39m1\u001b[39m)\n\u001b[0;32m     <a href='vscode-notebook-cell:/e%3A/Users/ccook/Desktop/DataSoyHenry/Clases/DS-M2/Clase%2004/Homework.ipynb#ch0000027?line=9'>10</a>\u001b[0m \u001b[39m1\u001b[39m \u001b[39m-\u001b[39m normal\u001b[39m.\u001b[39mcdf(\u001b[39m0.48\u001b[39m)\n",
      "\u001b[1;31mAttributeError\u001b[0m: type object 'Stats' has no attribute 'norm'"
     ]
    }
   ],
   "source": [
    "#hay que estandarizar\n",
    "\n",
    "\n",
    "X=90\n",
    "mu=78\n",
    "sigma=25\n",
    "z=(X-mu)/sigma #da 0.48, por tabla se resuelve: se busca en la tabla y se obtiene 0.3156\n",
    "\n",
    "normal = stats.norm(0,1)\n",
    "1 - normal.cdf(0.48)"
   ]
  }
 ],
 "metadata": {
  "kernelspec": {
   "display_name": "Python 3.10.1 64-bit",
   "language": "python",
   "name": "python3"
  },
  "language_info": {
   "codemirror_mode": {
    "name": "ipython",
    "version": 3
   },
   "file_extension": ".py",
   "mimetype": "text/x-python",
   "name": "python",
   "nbconvert_exporter": "python",
   "pygments_lexer": "ipython3",
   "version": "3.10.1"
  },
  "orig_nbformat": 4,
  "vscode": {
   "interpreter": {
    "hash": "7a00de2d03a2cdd800050a5fd9903e27ef0ab168083508fb826c5866b9462f56"
   }
  }
 },
 "nbformat": 4,
 "nbformat_minor": 2
}
