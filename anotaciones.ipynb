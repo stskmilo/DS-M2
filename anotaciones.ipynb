{
 "cells": [
  {
   "cell_type": "code",
   "execution_count": 11,
   "metadata": {},
   "outputs": [],
   "source": [
    "from math import e, factorial\n",
    "\n",
    "def combinacion(N,n):\n",
    "    return factorial(N)/(factorial(n)*factorial(N-n))\n",
    "\n",
    "def permutacion(n,N):\n",
    "    return factorial(N)/factorial(N-n)\n",
    "\n",
    "def binomial(n,x,p): #n: num experimentos x:num exitos p: prob exito\n",
    "    return (factorial(n)*(p**x)*((1-p)**(n-x)))/(factorial(x)*factorial(n-x))\n",
    "\n",
    "def poisson(x,E):\n",
    "    return ((E**x)*(e**(-E)))/factorial(x)\n",
    "\n",
    "def hipergeometrica(x,r,n,N):\n",
    "    c1 = combinacion(r,x)\n",
    "    c2 = combinacion(N-r,n-x)\n",
    "    c3 = combinacion(N,n)\n",
    "    return (c1*c2)/c3\n",
    "\n"
   ]
  },
  {
   "cell_type": "code",
   "execution_count": 4,
   "metadata": {},
   "outputs": [
    {
     "data": {
      "text/plain": [
       "0.21499084799999998"
      ]
     },
     "execution_count": 4,
     "metadata": {},
     "output_type": "execute_result"
    }
   ],
   "source": [
    "binomial(10,3,0.4)"
   ]
  },
  {
   "cell_type": "code",
   "execution_count": 9,
   "metadata": {},
   "outputs": [
    {
     "data": {
      "text/plain": [
       "0.0024787521766663594"
      ]
     },
     "execution_count": 9,
     "metadata": {},
     "output_type": "execute_result"
    }
   ],
   "source": [
    "poisson(0,6)"
   ]
  },
  {
   "cell_type": "code",
   "execution_count": 13,
   "metadata": {},
   "outputs": [
    {
     "data": {
      "text/plain": [
       "0.1590909090909091"
      ]
     },
     "execution_count": 13,
     "metadata": {},
     "output_type": "execute_result"
    }
   ],
   "source": [
    "hipergeometrica(0,5,3,12)"
   ]
  }
 ],
 "metadata": {
  "kernelspec": {
   "display_name": "Python 3.10.1 64-bit",
   "language": "python",
   "name": "python3"
  },
  "language_info": {
   "codemirror_mode": {
    "name": "ipython",
    "version": 3
   },
   "file_extension": ".py",
   "mimetype": "text/x-python",
   "name": "python",
   "nbconvert_exporter": "python",
   "pygments_lexer": "ipython3",
   "version": "3.10.1"
  },
  "orig_nbformat": 4,
  "vscode": {
   "interpreter": {
    "hash": "7a00de2d03a2cdd800050a5fd9903e27ef0ab168083508fb826c5866b9462f56"
   }
  }
 },
 "nbformat": 4,
 "nbformat_minor": 2
}
